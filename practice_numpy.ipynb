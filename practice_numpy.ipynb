{
 "cells": [
  {
   "cell_type": "markdown",
   "metadata": {},
   "source": []
  },
  {
   "cell_type": "code",
   "execution_count": 1,
   "metadata": {},
   "outputs": [],
   "source": [
    "import numpy as np # numpy를 가져오는데 계속 풀네임 쓰기 귀찮으니까 np로 명명을 해준다는 뜻\n",
    "import matplotlib.pyplot as plt # 마찬가지"
   ]
  },
  {
   "cell_type": "code",
   "execution_count": 6,
   "metadata": {},
   "outputs": [
    {
     "data": {
      "text/plain": [
       "array([[1919117645, 1718580079, 1866670196],\n",
       "       [1919905906, 1869182049,        366]])"
      ]
     },
     "execution_count": 6,
     "metadata": {},
     "output_type": "execute_result"
    }
   ],
   "source": [
    "np.empty([2,3], dtype='int') # 2 by 3 행렬(matrix)를 만드는데 일단 비어있고 아무 정수나 들어가게 함!"
   ]
  },
  {
   "cell_type": "code",
   "execution_count": 7,
   "metadata": {},
   "outputs": [
    {
     "data": {
      "text/plain": [
       "array([[0., 0., 0.],\n",
       "       [0., 0., 0.]])"
      ]
     },
     "execution_count": 7,
     "metadata": {},
     "output_type": "execute_result"
    }
   ],
   "source": [
    "np.zeros([2,3]) # 2x3의 행렬을 만듬 array는 행렬이라고 생각하면 됨. 그냥 list아님 / 2차원이어서 []가 두개 / zeros는 모든걸 0으로 채우는 함수"
   ]
  },
  {
   "cell_type": "code",
   "execution_count": null,
   "metadata": {},
   "outputs": [],
   "source": [
    "np.arange(0,10,2, dtype='float64') # 0과 10을 빼고 2씩 증가 # float는 점을 찍어주는 것. float42는 더 긴 수소점 아래까지 감"
   ]
  },
  {
   "cell_type": "code",
   "execution_count": 9,
   "metadata": {},
   "outputs": [
    {
     "data": {
      "text/plain": [
       "array([ 0.,  2.,  4.,  6.,  8., 10.])"
      ]
     },
     "execution_count": 9,
     "metadata": {},
     "output_type": "execute_result"
    }
   ],
   "source": [
    "np.linspace(0,10,6, dtype=float)  # 0부터 10미만을 6개로 나눔. 5넣으면 5개로 나눠져서 2.5 5 7.5 나옴"
   ]
  },
  {
   "cell_type": "code",
   "execution_count": 16,
   "metadata": {},
   "outputs": [
    {
     "name": "stdout",
     "output_type": "stream",
     "text": [
      "[[1 2 3]\n",
      " [4 5 6]]\n"
     ]
    },
    {
     "data": {
      "text/plain": [
       "numpy.ndarray"
      ]
     },
     "execution_count": 16,
     "metadata": {},
     "output_type": "execute_result"
    }
   ],
   "source": [
    "X = np.array([[1,2,3],[4,5,6]]) # list를 array로 만들어줌\n",
    "X\n",
    "print(X)\n",
    "type(X)  #세개 다 해볼 것"
   ]
  },
  {
   "cell_type": "code",
   "execution_count": 17,
   "metadata": {},
   "outputs": [
    {
     "data": {
      "text/plain": [
       "array([[1., 2., 3.],\n",
       "       [4., 5., 6.]])"
      ]
     },
     "execution_count": 17,
     "metadata": {},
     "output_type": "execute_result"
    }
   ],
   "source": [
    "X.astype(np.float64) #타입을 바꿔줌"
   ]
  },
  {
   "cell_type": "code",
   "execution_count": 18,
   "metadata": {},
   "outputs": [
    {
     "data": {
      "text/plain": [
       "array([[0, 0, 0],\n",
       "       [0, 0, 0]])"
      ]
     },
     "execution_count": 18,
     "metadata": {},
     "output_type": "execute_result"
    }
   ],
   "source": [
    "np.zeros_like(X) # 이런건 왜 있는지 모르겠는데 이런 기능도 있음"
   ]
  },
  {
   "cell_type": "code",
   "execution_count": 30,
   "metadata": {},
   "outputs": [
    {
     "name": "stdout",
     "output_type": "stream",
     "text": [
      "[-4.84959849e-01 -1.39114901e+00 -3.05814915e-01  8.57216923e-01\n",
      " -6.83563048e-01 -3.36794461e-01  1.21135711e+00  1.83392946e-02\n",
      "  5.40951206e-03  1.21177261e+00  7.04968314e-01  4.51948773e-01\n",
      " -1.21499122e+00  6.73306926e-01  5.90775317e-01 -3.58770249e-01\n",
      "  4.57684463e-01 -2.80044086e-01 -7.57533033e-01  9.47345807e-01\n",
      "  6.79244795e-01  1.11552238e+00  1.50759440e+00  1.90422222e+00\n",
      " -9.00595015e-01  1.65660466e+00  1.13979522e+00  7.55894474e-01\n",
      " -3.10294378e-02  7.56818868e-01 -2.30432608e-01 -2.04895827e+00\n",
      "  3.09151681e-02  1.80848678e+00 -1.68378841e+00  1.85115426e-01\n",
      " -1.13289558e-01  1.15085025e+00  1.52804696e+00  1.70907900e+00\n",
      " -8.99394909e-01 -7.02847918e-01 -1.63199712e+00  3.46147247e-01\n",
      " -4.85581859e-02 -5.53378863e-01  6.18231444e-01 -1.14607923e+00\n",
      "  3.30521758e-01  1.06531402e+00  5.25676513e-01 -1.31841557e+00\n",
      " -2.87572466e-01 -2.04909987e-01  9.11543729e-01 -7.47676041e-01\n",
      " -1.64985726e+00  1.92888551e+00  2.86564427e-01 -3.06838048e-01\n",
      "  4.41544833e-01 -9.94401947e-01  1.52616209e+00  1.17039746e-01\n",
      " -8.92237457e-01  2.47291184e-01  1.94555800e+00  5.31901587e-02\n",
      "  5.99906251e-01  4.75812616e-01 -1.01319857e-01 -1.91150461e-01\n",
      " -1.84766723e+00 -3.01982581e-01  2.28414213e+00 -5.38352182e-01\n",
      " -3.75999429e-01 -1.35292565e+00 -5.83474903e-01  2.91076339e-01\n",
      " -5.83129508e-01  2.86177424e+00 -1.27966884e+00  3.02319852e-01\n",
      "  9.96686396e-01  5.59512682e-01 -8.22163432e-01  5.06132424e-01\n",
      "  9.90704382e-01 -2.93831727e+00 -7.20281456e-01 -1.37767355e+00\n",
      "  1.23459905e+00  1.02050968e+00 -1.37311994e+00 -9.36177183e-01\n",
      "  1.05813153e-01 -7.21082347e-01  7.67506872e-01  1.51559874e-01\n",
      " -5.08956850e-01 -1.25360775e+00  1.20577002e+00 -1.71918248e+00\n",
      "  1.09882808e-01 -2.97047745e-01  2.32223174e+00 -2.50019578e-01\n",
      "  1.80879275e-01  1.44941746e-01  1.01737811e+00 -7.36303352e-01\n",
      " -5.07678912e-01  8.00398164e-01  1.41892203e+00  9.34603518e-01\n",
      "  1.61983150e+00 -1.57660934e+00 -7.19373095e-01  1.32014399e+00\n",
      "  2.55876007e-01  5.02096095e-01  5.26063205e-01  8.61831094e-01\n",
      " -4.42427569e-02 -1.05689418e+00 -6.74255862e-02 -5.14780265e-01\n",
      " -6.80227625e-01  2.27326636e+00  5.33662603e-01  2.87716977e-01\n",
      " -5.62453438e-02  1.59431091e+00 -8.36178187e-01 -8.66110131e-01\n",
      "  2.39513060e+00 -2.42581104e-01  2.12981632e+00 -1.05389344e+00\n",
      " -1.28555056e+00 -4.61722950e-02 -6.45132083e-01 -5.02137855e-01\n",
      " -2.12771157e-01  1.22385193e+00  1.72423454e+00  5.13004365e-01\n",
      " -4.26910424e-01 -1.05193635e+00  9.08983648e-01 -1.98411548e+00\n",
      " -9.56796809e-01 -5.73968132e-02 -1.57577309e+00  1.62600884e-01\n",
      " -1.50722222e+00  6.42168372e-01 -1.79493553e-01  2.76326377e-02\n",
      " -1.94608474e-01  1.65225763e-01  1.59035411e-01 -5.07450728e-01\n",
      " -1.53643356e-01  1.25227720e-01 -1.20273620e+00 -8.91298638e-01\n",
      "  3.04575553e-01 -1.29845631e-01 -1.43521488e+00 -7.04299701e-01\n",
      " -2.12772670e-01 -6.87103984e-01  1.59939838e+00  2.58534549e-01\n",
      "  5.98355061e-01  1.30696466e-01 -7.16873250e-01 -5.99780576e-01\n",
      "  2.99073667e-01  3.74173344e-01  1.52083072e+00 -3.32412162e-01\n",
      " -8.02500139e-01 -3.43775806e-01 -8.68046759e-01 -5.03553676e-01\n",
      "  9.64784467e-01  1.12693189e+00 -1.62218535e-01 -7.41731134e-01\n",
      "  2.95902209e-01 -7.20191298e-01  3.12523496e-01 -3.25795896e+00\n",
      " -3.84771812e-02  3.51349569e+00  1.22926446e+00 -1.08001466e+00\n",
      "  4.90993100e-03 -2.75654710e-01 -5.09954315e-01 -2.20328563e-01\n",
      "  7.52821416e-01  1.80575680e-01 -6.08531643e-01 -9.14567250e-01\n",
      " -1.98990375e-01  1.26592794e+00 -3.86981147e-01  3.23795739e+00\n",
      " -3.72195991e-02  5.72497076e-01  6.18261515e-01 -4.10554092e-01\n",
      " -3.14083300e-01  3.22046021e-01  1.14334086e+00 -9.22028966e-01\n",
      " -8.11531895e-01  1.04367819e+00 -7.70154920e-01 -1.63216084e+00\n",
      "  6.88210461e-02  7.31524659e-01 -2.79433807e-01  5.49293035e-01\n",
      " -6.29573213e-01 -2.97359495e-01  1.74582617e+00 -1.16317721e+00\n",
      " -1.88351591e-01  3.00384122e-01 -5.36343554e-01  1.10663983e+00\n",
      " -1.42618575e-01  1.12845618e+00 -1.05790632e+00 -8.40577136e-01\n",
      "  1.89196636e-01  1.54578644e-02 -2.15757903e+00  4.11327822e-01\n",
      " -1.06997762e+00 -1.32850525e+00 -1.30795449e+00 -1.84903030e-02\n",
      "  2.00664413e-01 -1.21147211e+00 -6.25222769e-01 -1.35023074e+00\n",
      " -1.25028932e+00 -1.54072554e-01 -8.95299063e-01 -2.66605398e+00\n",
      "  1.67314833e+00 -2.42605738e-01 -1.16932334e+00 -1.75033050e+00\n",
      " -8.30722593e-01 -4.70405567e-01 -6.05234885e-01 -3.76510741e-01\n",
      " -1.47046406e-01  2.64799507e-01 -7.50073992e-01 -1.52714932e-01\n",
      "  4.86259830e-01 -1.32818381e+00 -3.63675309e-01 -3.90297481e-01\n",
      " -3.50478630e-01 -4.69756821e-01  7.20584207e-01  3.43193568e-01\n",
      " -7.63017084e-01  3.06295182e-01  2.13003714e+00  1.73950708e+00\n",
      "  6.65571610e-01 -4.48445729e-01 -2.44699560e+00  5.92849389e-01\n",
      "  9.93953284e-01  1.73322117e+00 -2.96057570e+00  4.78036489e-01\n",
      " -1.62756951e+00 -2.07103815e+00 -5.21340542e-01 -1.04419873e+00\n",
      " -7.16479512e-01 -5.16510764e-03 -5.04166996e-02  5.64401108e-01\n",
      "  2.12289711e-01 -1.65939065e+00  2.02317703e-01  6.98380591e-02\n",
      "  9.10246008e-01  3.53076661e-01 -7.65842039e-01  3.76564266e-01\n",
      "  7.73624012e-01 -8.03217824e-01  8.89764330e-01  9.29550322e-01\n",
      "  1.12150720e-01  1.02167436e+00  2.08995053e+00 -7.23036877e-01\n",
      " -2.99629506e-01 -1.32916976e+00  5.57782547e-01  2.66212449e-01\n",
      "  1.32342389e+00  5.39903218e-02 -1.55073307e+00  1.06157873e+00\n",
      "  3.62144085e-01  1.35152215e+00 -2.86350099e-01 -2.05495634e+00\n",
      "  4.25015087e-01  1.18727279e+00 -1.81247847e-01 -2.39131742e+00\n",
      "  5.54834714e-02  1.53630000e+00 -1.37587820e+00  6.34585627e-02\n",
      "  3.18280122e+00 -5.84395916e-01 -7.22031762e-01  1.21135695e+00\n",
      " -1.12368396e+00  1.33102049e+00  6.46297948e-01 -1.47668364e+00\n",
      " -1.20798268e+00 -1.89978826e+00  9.62602962e-01 -8.97706343e-02\n",
      " -2.66719643e+00 -1.53393824e+00  1.70261010e+00  1.46307697e+00\n",
      "  3.43866746e-01 -1.36151827e-01  1.48190037e+00 -3.45375929e-01\n",
      " -6.87378928e-01  5.12401174e-01  1.79360209e+00 -1.21914323e+00\n",
      "  4.25989341e-01  1.58279246e+00 -6.67876928e-01 -2.76921599e-01\n",
      "  2.46153547e-02  1.25472471e+00 -2.03249201e-01 -2.58644001e-01\n",
      " -1.34309930e+00  4.64239916e-01 -1.17425929e-03  1.32393873e-01\n",
      "  4.34813176e-01  2.64076341e+00  8.85157074e-01 -1.08383122e-01\n",
      "  1.16367865e+00  5.37767464e-01  6.03852146e-01  8.19683895e-01\n",
      "  1.30873120e-01  1.16714355e-01 -1.04023376e+00  2.96739120e-01\n",
      " -4.26853305e-01  1.36229356e+00 -8.73169742e-01  1.32555786e-01\n",
      "  1.88900253e+00 -5.92821294e-01  8.33685693e-01  1.25328225e+00\n",
      " -5.71992304e-01 -3.47979629e-01  1.09118492e+00  9.08690395e-01\n",
      "  1.99900015e+00 -7.98619045e-01 -9.11896759e-01  1.63289631e-01\n",
      " -1.41534553e+00 -1.14660042e-01 -4.31953776e-01 -1.00638286e+00\n",
      "  8.56696427e-01  9.97633521e-01  1.61529392e-01  5.19539115e-01\n",
      " -6.54320124e-01  1.62217953e+00  8.62057048e-01  1.18627485e+00\n",
      " -6.42663000e-01  7.35237820e-01  2.36210997e+00 -1.12087051e+00\n",
      " -4.80963689e-01  2.61906741e+00  7.91498086e-01 -3.20228910e-01\n",
      " -2.98198655e-01  8.99580347e-01 -5.46134156e-01  1.78871330e+00\n",
      "  1.29389894e+00  6.54923610e-01  5.52448784e-02 -6.60248743e-01\n",
      " -3.57878332e-01  1.22852620e-01 -6.08610608e-01 -8.24567660e-02\n",
      "  8.11535156e-01 -2.90691761e-01  8.14454377e-01 -1.56006955e-01\n",
      "  7.25188294e-03  1.96170510e-01 -1.75937838e-01  7.35569485e-02\n",
      "  9.07594657e-01  8.96755946e-01 -1.15393821e+00 -1.85647544e+00\n",
      "  1.02383209e+00 -3.83554195e-01  1.34985473e+00  2.65560343e-01\n",
      " -1.88302993e+00 -1.36161325e+00  5.10532402e-01 -4.68054910e-01\n",
      " -2.86994749e-01  1.55368851e-01  2.24113080e+00  1.18194357e+00\n",
      "  4.06984371e-01  9.76791434e-01  1.32774290e-01 -8.28009724e-01\n",
      " -1.46926550e+00 -5.10240691e-02 -3.08773591e-01  1.89954871e+00\n",
      " -7.74910804e-01  1.50811272e+00 -2.45022319e-01 -7.03776706e-02\n",
      "  3.67844447e-01  4.45328580e-01  1.59003146e+00 -5.70302404e-01\n",
      " -6.34112576e-01 -1.73685455e+00 -2.99718853e+00 -1.01840451e+00\n",
      " -7.34457694e-01  1.22289311e+00 -7.31886332e-01  1.10087504e+00\n",
      " -5.78471835e-01 -5.28372208e-01  2.00057367e-01 -1.80204052e-01\n",
      "  4.80308604e-01 -7.18394146e-01  8.65100832e-01  1.78458297e+00\n",
      "  4.80287628e-01  3.01415324e-01  8.37745945e-01 -3.56025263e-01\n",
      " -5.88802522e-01 -9.91513435e-02  3.10258933e-01 -9.49456596e-01\n",
      " -6.69947616e-01 -7.98530273e-01 -1.00547237e+00 -6.17510884e-01\n",
      "  1.13973011e+00  7.22321192e-01  1.88435680e-01 -1.44413897e+00\n",
      "  3.18015214e-02 -1.43621765e+00 -6.21524744e-01  1.16650722e+00\n",
      "  2.97154461e+00 -1.55079251e-01 -3.16066489e-01 -1.44270485e+00\n",
      "  1.58646845e+00  1.01140585e+00 -3.74891325e-01  5.52328725e-01\n",
      " -5.56281277e-01 -5.82536162e-01  1.18722143e-01  5.70000492e-01\n",
      " -2.20409042e+00  9.47112164e-01  1.49025733e+00  3.24042135e-01\n",
      " -5.68061521e-01 -4.52319683e-01  1.81772416e+00 -2.23122046e+00\n",
      " -1.54265498e+00  1.45224192e-01 -3.39639872e-01  9.04376195e-01\n",
      " -4.53601139e-01  1.46081265e+00  5.88057143e-01  6.77543983e-01\n",
      " -7.12744877e-02  3.27456956e-01  8.89668904e-01  1.02418638e+00\n",
      " -2.96276423e-01 -9.20141641e-01 -1.41456440e+00 -5.17632492e-01\n",
      " -1.52555306e+00 -5.41885473e-01  6.79699069e-01 -8.30351030e-01\n",
      " -9.60734848e-01 -2.72948486e-01  1.07586029e+00 -1.71126236e+00\n",
      " -1.34693609e-01 -3.95262145e-01 -7.18940213e-01 -1.08175638e+00\n",
      " -5.91736727e-01 -1.03388170e+00 -1.78497458e+00  2.15961054e-01\n",
      " -5.70865744e-01 -2.02102534e-01  5.18044845e-01 -2.96574202e-01\n",
      " -2.14648495e-02 -3.46265088e-01  1.77384127e+00 -1.13389793e+00\n",
      "  2.27326472e-01 -6.51123903e-01  8.08547081e-01 -1.24598857e+00\n",
      " -2.74885932e-01  2.96499834e-01  6.48768103e-01  1.28470138e+00\n",
      " -1.41295766e+00  2.44934606e-01 -1.63250645e-01  4.17122687e-01\n",
      "  5.52881119e-01 -5.65407850e-01  7.42535006e-02  2.26488573e+00\n",
      " -6.37705085e-01 -8.76043438e-01 -1.23722498e-01  2.36321533e-01\n",
      " -7.08494291e-01  1.19182309e-01  9.43239884e-01 -8.81561267e-01\n",
      "  1.09071600e-01 -5.80186953e-01 -1.51277905e-01 -1.18894406e-01\n",
      "  1.26985751e+00 -5.88466242e-01  1.79558572e-02  2.07518821e+00\n",
      "  2.14631210e-01 -4.44759784e-01 -3.32330740e-01  6.35631416e-01\n",
      "  1.09031589e-01  6.89320824e-01 -4.09413488e-01  1.06229919e+00\n",
      "  9.06576410e-01  9.43687022e-02 -6.91814411e-01  8.94132003e-01\n",
      "  1.20724771e+00  1.22776244e+00 -6.10469919e-01 -1.47040311e+00\n",
      "  1.03117005e-01  6.57173240e-01  1.28064077e+00 -1.94238431e-01\n",
      "  5.16122586e-01 -8.31106863e-01  1.88623547e-02  9.20705486e-02\n",
      "  8.16190966e-01  1.33258984e-01  3.76634898e-01 -4.09354525e-02\n",
      " -2.48781919e-01 -3.52923670e-01 -3.75505781e-01  5.52083350e-01\n",
      " -1.17852565e+00  2.49554570e-01  1.04062329e+00  1.94271470e-01\n",
      "  6.74712073e-01  6.17652012e-01  7.63929010e-02  2.45402726e-01\n",
      "  2.46951131e-01  1.74562991e+00  5.92974601e-01  6.60254975e-01\n",
      "  1.84070785e+00  1.05276904e-01 -6.01426527e-01  7.16093796e-01\n",
      "  2.69086042e-01 -1.08937702e+00 -1.07065048e+00  3.48980098e-01\n",
      "  7.83755288e-01  3.96990049e-01 -2.59132293e+00 -3.53650159e-01\n",
      " -8.77567034e-01  3.66218276e-01  2.84295721e-01 -1.29301573e+00\n",
      "  5.95126150e-01 -1.70372825e+00  5.20722766e-01  4.73274880e-01\n",
      " -7.01174724e-01 -1.05060132e+00 -3.57725789e-01  5.85818555e-01\n",
      " -4.63935853e-01  6.56716038e-01 -4.74769686e-01  3.18120556e-01\n",
      "  3.32398878e-01  1.00429185e+00 -1.02113413e+00  1.34041388e+00\n",
      " -6.22280568e-01 -4.95222944e-01 -4.76767301e-01 -1.09346331e+00\n",
      " -7.19781310e-01 -5.47532516e-01  7.41412952e-01  1.27519138e+00\n",
      "  7.62185560e-02 -7.08972458e-01  3.04917022e+00  1.19971813e+00\n",
      " -3.90885849e-01 -9.19378164e-01 -6.24066280e-01  1.25755987e+00\n",
      " -1.01936719e+00  9.16420217e-01  7.85332231e-02  1.41069276e+00\n",
      "  1.76133690e+00 -3.53344357e-01 -1.18506321e+00 -2.73539503e-01\n",
      " -9.78742877e-01  8.17369170e-01 -1.39301184e-01 -3.36148483e-01\n",
      "  1.09163525e+00 -1.36930897e+00  1.11503886e+00  8.50174163e-01\n",
      " -6.23046116e-01 -2.48021592e+00  6.64515794e-02 -2.50960994e-01\n",
      "  3.69240978e-01 -5.79272682e-01 -3.19739375e-01  1.40764289e+00\n",
      " -8.85747288e-01  1.28560869e-02  2.72442832e+00 -2.57559752e+00\n",
      "  9.32300886e-01 -8.84570736e-01  1.66139573e+00 -1.68234818e+00\n",
      " -1.27373642e+00  1.14829289e+00  1.22498417e+00 -1.22816599e-01\n",
      " -2.51320838e-01  9.22989682e-01 -1.16038373e+00 -1.62545657e+00\n",
      " -1.58019935e-01  1.21097704e+00  1.68645148e+00  1.78822674e+00\n",
      "  5.09931647e-01 -1.28555659e-01  1.01781214e+00  1.92293487e+00\n",
      "  1.29870630e+00  1.18823923e+00  1.14452407e+00 -1.21283991e+00\n",
      "  8.65246145e-02  2.78612402e-01  1.32769261e+00 -1.62992463e-01\n",
      " -1.36070657e+00  5.55423451e-01 -7.69937901e-01 -9.73191331e-01\n",
      "  3.37566172e-01  9.74349323e-01  1.26242927e+00 -1.43024638e+00\n",
      " -8.04815370e-02  1.18338090e+00  4.90342229e-01 -2.03784174e+00\n",
      " -1.55231052e+00  2.93048163e-01 -5.29452494e-01 -5.90588423e-01\n",
      " -1.90568038e-01 -1.13983041e+00 -6.80963236e-01 -1.74681963e+00\n",
      "  9.94027853e-01  5.82470323e-01  8.29458342e-02 -4.25568436e-01\n",
      "  2.53554405e-01 -1.13053639e+00 -9.60000654e-01 -7.61630857e-02\n",
      " -3.13341355e-01  1.28114538e+00  2.70721519e-01  8.57413233e-01\n",
      "  9.86985365e-01 -3.37402934e+00  3.67664009e-01  4.49208050e-02\n",
      " -1.58894385e-01 -1.99547431e+00 -8.43488996e-01  7.56733504e-02\n",
      " -1.12735404e+00  1.15394240e+00  7.94435389e-01  1.36794200e+00\n",
      " -8.18712193e-01 -6.53177939e-01 -2.89388314e-01  5.35191083e-01\n",
      "  5.81708887e-01 -1.10465355e+00  6.81874389e-01  1.11920290e+00\n",
      "  8.28347595e-01 -1.12628331e-03 -9.90514840e-01  8.62779162e-01\n",
      "  5.27046924e-01 -6.44460339e-01 -1.20290188e+00  1.07640169e-01\n",
      " -3.59576379e-01  1.06254906e+00 -1.31302065e+00 -1.60150466e+00\n",
      " -2.29381036e+00  1.53206192e+00  1.87676477e-01 -9.36117168e-01\n",
      "  5.16159532e-02  5.92135636e-01  1.22205538e-01 -4.01054854e-01\n",
      " -7.12761552e-01  8.33797116e-01 -1.80165916e+00 -1.10978054e+00\n",
      "  2.71300763e-01 -6.82251754e-01  5.04241684e-02  1.08466334e+00\n",
      " -7.75938798e-01  2.33957074e+00  1.31838602e+00  6.46096716e-01\n",
      "  2.53756107e-01 -1.82103968e+00 -1.37868719e+00 -6.63823769e-01\n",
      " -1.66077714e+00 -1.20640002e-01  6.27971940e-01  2.26808728e-01\n",
      "  1.44495758e+00  1.21282594e+00  5.92850230e-01 -1.30463510e+00\n",
      "  9.93609526e-01  1.27981858e+00 -2.09645818e+00  8.98511474e-01\n",
      " -2.07034540e-01 -8.41994583e-01  5.57453054e-01 -8.00888447e-01\n",
      "  7.95768838e-01 -8.35759942e-01  6.81460116e-01 -1.04329586e+00\n",
      "  5.50975166e-01  1.06016130e-03  4.87183070e-01  1.26512122e+00\n",
      " -1.30716443e+00 -1.24520335e+00 -1.09724294e+00 -3.74722359e-01\n",
      " -1.85065362e-01 -2.22926493e-01  1.53932347e+00 -6.33665439e-01\n",
      "  1.59355892e+00 -3.25146227e-01  4.30693378e-01 -2.69753548e-01\n",
      "  8.44899397e-02 -6.01498903e-01 -3.54402010e-01 -6.51855210e-01\n",
      "  8.12647806e-02  3.93786874e-01 -1.49670225e+00 -6.16344282e-01\n",
      "  1.78628705e+00  2.02383440e-01  4.45552771e-01 -4.91305063e-02\n",
      "  1.51630813e+00  1.91980541e-01  8.23848438e-01 -3.24638846e-01\n",
      " -2.14000721e+00  1.39854022e+00  5.96334543e-01  1.89227440e+00\n",
      "  5.52923176e-01 -1.18415163e-01  1.66052058e+00 -1.22028910e+00\n",
      "  1.95337784e-01 -1.61315448e+00  1.98065311e+00  4.52501881e-01\n",
      "  1.63951600e+00 -4.47876897e-01 -2.41621503e-01 -1.54787029e+00\n",
      "  9.55471975e-01  1.14331929e+00  1.06257859e+00 -2.23491612e+00\n",
      " -9.10466826e-01  1.18473990e+00  1.20396401e+00 -2.01580581e+00\n",
      " -2.08581019e+00 -1.44677460e-01 -2.28288502e-01 -1.53065107e+00\n",
      " -7.77790915e-01  1.67674395e+00 -5.03828598e-01  2.83341829e-01\n",
      " -1.38360220e+00  2.87759017e+00  1.46720491e+00  1.24626878e+00\n",
      "  7.11984713e-01 -6.60098381e-01  1.08694835e+00  5.09961030e-01\n",
      " -9.60589370e-01 -6.54772254e-01  1.60519332e+00 -7.34575302e-01\n",
      " -6.28252664e-01  1.08515035e+00 -1.80157240e+00 -6.12283747e-01\n",
      "  3.79438559e-02 -1.39444194e+00 -1.01491001e+00 -2.10687601e+00\n",
      "  7.52252671e-01 -2.76276211e-01  1.18275848e-01 -1.46538810e-01\n",
      " -1.43327653e-02 -2.10953312e-01 -1.73853857e+00  9.89021976e-02\n",
      " -1.50003639e+00  3.44747026e-01 -1.29707920e-01  6.30735792e-01\n",
      "  9.77972807e-02 -1.55483049e-02 -6.88991936e-01 -3.94372389e-01\n",
      " -1.16336462e+00 -3.05486677e-01 -6.56725168e-02  1.44218523e+00\n",
      " -2.03831141e+00  1.24671143e+00  2.16596266e+00  1.58564003e+00\n",
      " -1.59663913e+00  2.78502813e-01  6.91597893e-01 -7.44554690e-01\n",
      " -2.24857316e+00 -7.63027898e-01  3.28845063e-01 -9.38345566e-01\n",
      " -3.26169640e-01 -2.00093650e-01 -1.21358586e+00  1.84547244e-01\n",
      " -6.48845311e-01 -3.43017364e-01  8.34791363e-01  1.10303203e+00\n",
      "  9.07481945e-01 -5.08833388e-01 -1.41595765e+00 -3.19170293e-01\n",
      " -4.03546415e-01  1.46205186e+00  2.30586785e-01  1.17411238e-01\n",
      " -2.31730575e+00  2.40768496e+00 -1.00937185e+00  3.89953409e-01\n",
      " -2.20805232e+00  5.56205379e-01 -4.74619232e-01 -6.61913501e-01\n",
      " -1.99029368e-01 -6.96307914e-01 -1.16799897e-01 -9.02949960e-01\n",
      " -5.33470348e-01  8.95058393e-01 -1.86299902e+00 -1.79382108e+00]\n"
     ]
    },
    {
     "data": {
      "image/png": "[encoded data removed]",
      "text/plain": [
       "<Figure size 432x288 with 1 Axes>"
      ]
     },
     "metadata": {
      "needs_background": "light"
     },
     "output_type": "display_data"
    }
   ],
   "source": [
    "data = np.random.normal(0,1,1000) # .random : 0을 평균값으로하고 1을 표준편차로한 100개의 랜덤 숫자를 만들어라! \n",
    "                                  # .normal 정규분포처럼 중간값에 수렴하게 만들어줌\n",
    "print(data)\n",
    "plt.hist(data, bins=10) #hist : 히스토그램   # plt: hist있는 패키지  #bins: 10칸 -> 늘릴수록 촘촘, 곡선처럼 됨 frequency라고 생각\n",
    "plt.show() #show : 보여주는거"
   ]
  },
  {
   "cell_type": "markdown",
   "metadata": {},
   "source": [
    "# 2. Manipulation"
   ]
  },
  {
   "cell_type": "code",
   "execution_count": 44,
   "metadata": {},
   "outputs": [],
   "source": [
    "import numpy as np \n",
    "import matplotlib.pyplot as plt "
   ]
  },
  {
   "cell_type": "code",
   "execution_count": 45,
   "metadata": {},
   "outputs": [
    {
     "data": {
      "text/plain": [
       "array([[[1., 1., 1., 1.],\n",
       "        [1., 1., 1., 1.],\n",
       "        [1., 1., 1., 1.]],\n",
       "\n",
       "       [[1., 1., 1., 1.],\n",
       "        [1., 1., 1., 1.],\n",
       "        [1., 1., 1., 1.]]])"
      ]
     },
     "execution_count": 45,
     "metadata": {},
     "output_type": "execute_result"
    }
   ],
   "source": [
    "X = np.ones([2,3,4]) # 정보가 많아질 수록 고차원이 될 수밖에 없다. 이것은 4차원임\n",
    "X         # 제일 큰 () 안에 []가 두개 있으니 2차원에다가 그안에 3개의[]가 있고 []안에 각각 4개의 1이 있으니 4차원임"
   ]
  },
  {
   "cell_type": "code",
   "execution_count": 46,
   "metadata": {},
   "outputs": [
    {
     "data": {
      "text/plain": [
       "array([[[1., 1., 1.],\n",
       "        [1., 1., 1.],\n",
       "        [1., 1., 1.],\n",
       "        [1., 1., 1.]],\n",
       "\n",
       "       [[1., 1., 1.],\n",
       "        [1., 1., 1.],\n",
       "        [1., 1., 1.],\n",
       "        [1., 1., 1.]]])"
      ]
     },
     "execution_count": 46,
     "metadata": {},
     "output_type": "execute_result"
    }
   ],
   "source": [
    "Y = X.reshape(2, 4, 3) # 매트릭스(행렬)는 보통 2차원 # reshape은 숫자의 곱(총 숫자의 개수)만 맞다면 가능하다!! \n",
    "Y"
   ]
  },
  {
   "cell_type": "code",
   "execution_count": 47,
   "metadata": {},
   "outputs": [
    {
     "data": {
      "text/plain": [
       "array([[1., 1., 1., 1.],\n",
       "       [1., 1., 1., 1.],\n",
       "       [1., 1., 1., 1.],\n",
       "       [1., 1., 1., 1.],\n",
       "       [1., 1., 1., 1.],\n",
       "       [1., 1., 1., 1.]])"
      ]
     },
     "execution_count": 47,
     "metadata": {},
     "output_type": "execute_result"
    }
   ],
   "source": [
    "Z = X.reshape(-1,4) # 2차원으로도 바꿀 수 있음\n",
    "Z"
   ]
  },
  {
   "cell_type": "code",
   "execution_count": 48,
   "metadata": {},
   "outputs": [
    {
     "data": {
      "text/plain": [
       "array([[[[1.]],\n",
       "\n",
       "        [[1.]],\n",
       "\n",
       "        [[1.]],\n",
       "\n",
       "        [[1.]]],\n",
       "\n",
       "\n",
       "       [[[1.]],\n",
       "\n",
       "        [[1.]],\n",
       "\n",
       "        [[1.]],\n",
       "\n",
       "        [[1.]]],\n",
       "\n",
       "\n",
       "       [[[1.]],\n",
       "\n",
       "        [[1.]],\n",
       "\n",
       "        [[1.]],\n",
       "\n",
       "        [[1.]]],\n",
       "\n",
       "\n",
       "       [[[1.]],\n",
       "\n",
       "        [[1.]],\n",
       "\n",
       "        [[1.]],\n",
       "\n",
       "        [[1.]]],\n",
       "\n",
       "\n",
       "       [[[1.]],\n",
       "\n",
       "        [[1.]],\n",
       "\n",
       "        [[1.]],\n",
       "\n",
       "        [[1.]]],\n",
       "\n",
       "\n",
       "       [[[1.]],\n",
       "\n",
       "        [[1.]],\n",
       "\n",
       "        [[1.]],\n",
       "\n",
       "        [[1.]]]])"
      ]
     },
     "execution_count": 48,
     "metadata": {},
     "output_type": "execute_result"
    }
   ],
   "source": [
    "Z = X.reshape(6,4,1,1) # 더 고차원으로도 바꿀 수 있음\n",
    "Z"
   ]
  },
  {
   "cell_type": "code",
   "execution_count": 49,
   "metadata": {},
   "outputs": [
    {
     "data": {
      "text/plain": [
       "array([[[1., 1.],\n",
       "        [1., 1.],\n",
       "        [1., 1.]],\n",
       "\n",
       "       [[1., 1.],\n",
       "        [1., 1.],\n",
       "        [1., 1.]],\n",
       "\n",
       "       [[1., 1.],\n",
       "        [1., 1.],\n",
       "        [1., 1.]],\n",
       "\n",
       "       [[1., 1.],\n",
       "        [1., 1.],\n",
       "        [1., 1.]]])"
      ]
     },
     "execution_count": 49,
     "metadata": {},
     "output_type": "execute_result"
    }
   ],
   "source": [
    "Y = X.reshape(-1, 3, 2) # -1은 알아서 남는 차원수를 계산해준다는 의미이다!!\n",
    "Y"
   ]
  },
  {
   "cell_type": "code",
   "execution_count": 50,
   "metadata": {},
   "outputs": [
    {
     "data": {
      "text/plain": [
       "True"
      ]
     },
     "execution_count": 50,
     "metadata": {},
     "output_type": "execute_result"
    }
   ],
   "source": [
    "np.allclose(X.reshape(-1, 3, 2), Y) # 똑같냐 확인해주는 거고 똑같으면 아무일도 안일어남\n"
   ]
  },
  {
   "cell_type": "code",
   "execution_count": 51,
   "metadata": {},
   "outputs": [],
   "source": [
    "assert np.allclose(x.reshape(-1, 3, 2), Y)"
   ]
  },
  {
   "cell_type": "markdown",
   "metadata": {},
   "source": [
    "# 3. NumPy Input/Output"
   ]
  },
  {
   "cell_type": "code",
   "execution_count": 52,
   "metadata": {},
   "outputs": [],
   "source": [
    "a = np.random.randint(0, 10, [2, 3]) # 10미만으로 랜덤한 2 by 3 행렬을 만들어라?\n",
    "b = np.random.random([2, 3])\n",
    "np.savez(\"test\", a, b) # 변수를 저장하고 싶을 때 # test부분은 그냥 파일명입니다!"
   ]
  },
  {
   "cell_type": "code",
   "execution_count": 53,
   "metadata": {},
   "outputs": [
    {
     "data": {
      "text/plain": [
       "array([[0.78169844, 0.0612802 , 0.462004  ],\n",
       "       [0.73103467, 0.30751217, 0.75895584]])"
      ]
     },
     "execution_count": 53,
     "metadata": {},
     "output_type": "execute_result"
    }
   ],
   "source": [
    "b"
   ]
  },
  {
   "cell_type": "code",
   "execution_count": 54,
   "metadata": {},
   "outputs": [
    {
     "name": "stderr",
     "output_type": "stream",
     "text": [
      "'ls'은(는) 내부 또는 외부 명령, 실행할 수 있는 프로그램, 또는\n",
      "배치 파일이 아닙니다.\n"
     ]
    }
   ],
   "source": [
    "!ls -al test* # !ls는 리눅스 명령어임 -> 윈도우 안됨 # 회사용 서버 컴퓨터는 리눅스를 씀.  \n",
    "#But! 맥 시스템은 리눅스를 쓰고 있어서 됨. 그 시스템상 명령어들이 다 다르기 때문에 사용가능."
   ]
  },
  {
   "cell_type": "code",
   "execution_count": 55,
   "metadata": {},
   "outputs": [
    {
     "name": "stdout",
     "output_type": "stream",
     "text": [
      "X\t Y\t Z\t a\t b\t np\t npzfiles\t plt\t x\t \n",
      "\n"
     ]
    }
   ],
   "source": [
    "%who  "
   ]
  },
  {
   "cell_type": "code",
   "execution_count": 56,
   "metadata": {},
   "outputs": [],
   "source": [
    "# # Print all interactive variables 현재 변수들 알고 싶을 때! 근데 뒤에 코멘트 없어야되어서 밑에 코멘트 씀"
   ]
  },
  {
   "cell_type": "code",
   "execution_count": 57,
   "metadata": {},
   "outputs": [],
   "source": [
    "del a, b # a,b 지우기"
   ]
  },
  {
   "cell_type": "code",
   "execution_count": 58,
   "metadata": {},
   "outputs": [
    {
     "name": "stdout",
     "output_type": "stream",
     "text": [
      "X\t Y\t Z\t np\t npzfiles\t plt\t x\t \n"
     ]
    }
   ],
   "source": [
    "%who  "
   ]
  },
  {
   "cell_type": "code",
   "execution_count": 59,
   "metadata": {},
   "outputs": [
    {
     "data": {
      "text/plain": [
       "['arr_0', 'arr_1']"
      ]
     },
     "execution_count": 59,
     "metadata": {},
     "output_type": "execute_result"
    }
   ],
   "source": [
    "npzfiles = np.load(\"test.npz\") # 아까 저장한 a,b의 값을 불러옴\n",
    "npzfiles.files"
   ]
  },
  {
   "cell_type": "code",
   "execution_count": 60,
   "metadata": {},
   "outputs": [
    {
     "data": {
      "text/plain": [
       "array([[3, 9, 5],\n",
       "       [7, 2, 8]])"
      ]
     },
     "execution_count": 60,
     "metadata": {},
     "output_type": "execute_result"
    }
   ],
   "source": [
    "npzfiles['arr_0'] #저장시와 같은 값이라고 함...ㅣ"
   ]
  },
  {
   "cell_type": "code",
   "execution_count": 61,
   "metadata": {},
   "outputs": [
    {
     "ename": "OSError",
     "evalue": "regression.csv not found.",
     "output_type": "error",
     "traceback": [
      "\u001b[1;31m---------------------------------------------------------------------------\u001b[0m",
      "\u001b[1;31mOSError\u001b[0m                                   Traceback (most recent call last)",
      "\u001b[1;32m<ipython-input-61-85581bfd3e6b>\u001b[0m in \u001b[0;36m<module>\u001b[1;34m\u001b[0m\n\u001b[1;32m----> 1\u001b[1;33m \u001b[0mdata\u001b[0m \u001b[1;33m=\u001b[0m \u001b[0mnp\u001b[0m\u001b[1;33m.\u001b[0m\u001b[0mloadtxt\u001b[0m\u001b[1;33m(\u001b[0m\u001b[1;34m\"regression.csv\"\u001b[0m\u001b[1;33m,\u001b[0m \u001b[0mdelimiter\u001b[0m\u001b[1;33m=\u001b[0m\u001b[1;34m\",\"\u001b[0m\u001b[1;33m,\u001b[0m \u001b[0mskiprows\u001b[0m\u001b[1;33m=\u001b[0m\u001b[1;36m1\u001b[0m\u001b[1;33m,\u001b[0m \u001b[0mdtype\u001b[0m\u001b[1;33m=\u001b[0m\u001b[1;33m{\u001b[0m\u001b[1;34m'names'\u001b[0m\u001b[1;33m:\u001b[0m\u001b[1;33m(\u001b[0m\u001b[1;34m\"X\"\u001b[0m\u001b[1;33m,\u001b[0m \u001b[1;34m\"Y\"\u001b[0m\u001b[1;33m)\u001b[0m\u001b[1;33m,\u001b[0m \u001b[1;34m'formats'\u001b[0m\u001b[1;33m:\u001b[0m\u001b[1;33m(\u001b[0m\u001b[1;34m'f'\u001b[0m\u001b[1;33m,\u001b[0m \u001b[1;34m'f'\u001b[0m\u001b[1;33m)\u001b[0m\u001b[1;33m}\u001b[0m\u001b[1;33m)\u001b[0m\u001b[1;33m\u001b[0m\u001b[1;33m\u001b[0m\u001b[0m\n\u001b[0m\u001b[0;32m      2\u001b[0m \u001b[0mdata\u001b[0m\u001b[1;33m\u001b[0m\u001b[1;33m\u001b[0m\u001b[0m\n",
      "\u001b[1;32m~\\Anaconda3\\lib\\site-packages\\numpy\\lib\\npyio.py\u001b[0m in \u001b[0;36mloadtxt\u001b[1;34m(fname, dtype, comments, delimiter, converters, skiprows, usecols, unpack, ndmin, encoding)\u001b[0m\n\u001b[0;32m    924\u001b[0m             \u001b[0mfname\u001b[0m \u001b[1;33m=\u001b[0m \u001b[0mstr\u001b[0m\u001b[1;33m(\u001b[0m\u001b[0mfname\u001b[0m\u001b[1;33m)\u001b[0m\u001b[1;33m\u001b[0m\u001b[1;33m\u001b[0m\u001b[0m\n\u001b[0;32m    925\u001b[0m         \u001b[1;32mif\u001b[0m \u001b[0m_is_string_like\u001b[0m\u001b[1;33m(\u001b[0m\u001b[0mfname\u001b[0m\u001b[1;33m)\u001b[0m\u001b[1;33m:\u001b[0m\u001b[1;33m\u001b[0m\u001b[1;33m\u001b[0m\u001b[0m\n\u001b[1;32m--> 926\u001b[1;33m             \u001b[0mfh\u001b[0m \u001b[1;33m=\u001b[0m \u001b[0mnp\u001b[0m\u001b[1;33m.\u001b[0m\u001b[0mlib\u001b[0m\u001b[1;33m.\u001b[0m\u001b[0m_datasource\u001b[0m\u001b[1;33m.\u001b[0m\u001b[0mopen\u001b[0m\u001b[1;33m(\u001b[0m\u001b[0mfname\u001b[0m\u001b[1;33m,\u001b[0m \u001b[1;34m'rt'\u001b[0m\u001b[1;33m,\u001b[0m \u001b[0mencoding\u001b[0m\u001b[1;33m=\u001b[0m\u001b[0mencoding\u001b[0m\u001b[1;33m)\u001b[0m\u001b[1;33m\u001b[0m\u001b[1;33m\u001b[0m\u001b[0m\n\u001b[0m\u001b[0;32m    927\u001b[0m             \u001b[0mfencoding\u001b[0m \u001b[1;33m=\u001b[0m \u001b[0mgetattr\u001b[0m\u001b[1;33m(\u001b[0m\u001b[0mfh\u001b[0m\u001b[1;33m,\u001b[0m \u001b[1;34m'encoding'\u001b[0m\u001b[1;33m,\u001b[0m \u001b[1;34m'latin1'\u001b[0m\u001b[1;33m)\u001b[0m\u001b[1;33m\u001b[0m\u001b[1;33m\u001b[0m\u001b[0m\n\u001b[0;32m    928\u001b[0m             \u001b[0mfh\u001b[0m \u001b[1;33m=\u001b[0m \u001b[0miter\u001b[0m\u001b[1;33m(\u001b[0m\u001b[0mfh\u001b[0m\u001b[1;33m)\u001b[0m\u001b[1;33m\u001b[0m\u001b[1;33m\u001b[0m\u001b[0m\n",
      "\u001b[1;32m~\\Anaconda3\\lib\\site-packages\\numpy\\lib\\_datasource.py\u001b[0m in \u001b[0;36mopen\u001b[1;34m(path, mode, destpath, encoding, newline)\u001b[0m\n\u001b[0;32m    260\u001b[0m \u001b[1;33m\u001b[0m\u001b[0m\n\u001b[0;32m    261\u001b[0m     \u001b[0mds\u001b[0m \u001b[1;33m=\u001b[0m \u001b[0mDataSource\u001b[0m\u001b[1;33m(\u001b[0m\u001b[0mdestpath\u001b[0m\u001b[1;33m)\u001b[0m\u001b[1;33m\u001b[0m\u001b[1;33m\u001b[0m\u001b[0m\n\u001b[1;32m--> 262\u001b[1;33m     \u001b[1;32mreturn\u001b[0m \u001b[0mds\u001b[0m\u001b[1;33m.\u001b[0m\u001b[0mopen\u001b[0m\u001b[1;33m(\u001b[0m\u001b[0mpath\u001b[0m\u001b[1;33m,\u001b[0m \u001b[0mmode\u001b[0m\u001b[1;33m,\u001b[0m \u001b[0mencoding\u001b[0m\u001b[1;33m=\u001b[0m\u001b[0mencoding\u001b[0m\u001b[1;33m,\u001b[0m \u001b[0mnewline\u001b[0m\u001b[1;33m=\u001b[0m\u001b[0mnewline\u001b[0m\u001b[1;33m)\u001b[0m\u001b[1;33m\u001b[0m\u001b[1;33m\u001b[0m\u001b[0m\n\u001b[0m\u001b[0;32m    263\u001b[0m \u001b[1;33m\u001b[0m\u001b[0m\n\u001b[0;32m    264\u001b[0m \u001b[1;33m\u001b[0m\u001b[0m\n",
      "\u001b[1;32m~\\Anaconda3\\lib\\site-packages\\numpy\\lib\\_datasource.py\u001b[0m in \u001b[0;36mopen\u001b[1;34m(self, path, mode, encoding, newline)\u001b[0m\n\u001b[0;32m    616\u001b[0m                                       encoding=encoding, newline=newline)\n\u001b[0;32m    617\u001b[0m         \u001b[1;32melse\u001b[0m\u001b[1;33m:\u001b[0m\u001b[1;33m\u001b[0m\u001b[1;33m\u001b[0m\u001b[0m\n\u001b[1;32m--> 618\u001b[1;33m             \u001b[1;32mraise\u001b[0m \u001b[0mIOError\u001b[0m\u001b[1;33m(\u001b[0m\u001b[1;34m\"%s not found.\"\u001b[0m \u001b[1;33m%\u001b[0m \u001b[0mpath\u001b[0m\u001b[1;33m)\u001b[0m\u001b[1;33m\u001b[0m\u001b[1;33m\u001b[0m\u001b[0m\n\u001b[0m\u001b[0;32m    619\u001b[0m \u001b[1;33m\u001b[0m\u001b[0m\n\u001b[0;32m    620\u001b[0m \u001b[1;33m\u001b[0m\u001b[0m\n",
      "\u001b[1;31mOSError\u001b[0m: regression.csv not found."
     ]
    }
   ],
   "source": [
    "data = np.loadtxt(\"regression.csv\", delimiter=\",\", skiprows=1, dtype={'names':(\"X\", \"Y\"), 'formats':('f', 'f')})\n",
    "data                            # delimiter을 ,로 구분  \n",
    "data.shape # data라는게 몇행 몇열인지 알려주는 기능"
   ]
  },
  {
   "cell_type": "code",
   "execution_count": 62,
   "metadata": {},
   "outputs": [
    {
     "ename": "NameError",
     "evalue": "name 'data' is not defined",
     "output_type": "error",
     "traceback": [
      "\u001b[1;31m---------------------------------------------------------------------------\u001b[0m",
      "\u001b[1;31mNameError\u001b[0m                                 Traceback (most recent call last)",
      "\u001b[1;32m<ipython-input-62-564b9f938d6b>\u001b[0m in \u001b[0;36m<module>\u001b[1;34m\u001b[0m\n\u001b[1;32m----> 1\u001b[1;33m \u001b[0mnp\u001b[0m\u001b[1;33m.\u001b[0m\u001b[0msavetxt\u001b[0m\u001b[1;33m(\u001b[0m\u001b[1;34m\"regression_saved.csv\"\u001b[0m\u001b[1;33m,\u001b[0m \u001b[0mdata\u001b[0m\u001b[1;33m,\u001b[0m \u001b[0mdelimiter\u001b[0m\u001b[1;33m=\u001b[0m\u001b[1;34m\",\"\u001b[0m\u001b[1;33m)\u001b[0m\u001b[1;33m\u001b[0m\u001b[1;33m\u001b[0m\u001b[0m\n\u001b[0m\u001b[0;32m      2\u001b[0m \u001b[0mget_ipython\u001b[0m\u001b[1;33m(\u001b[0m\u001b[1;33m)\u001b[0m\u001b[1;33m.\u001b[0m\u001b[0msystem\u001b[0m\u001b[1;33m(\u001b[0m\u001b[1;34m'ls -al regression_saved.csv'\u001b[0m\u001b[1;33m)\u001b[0m\u001b[1;33m\u001b[0m\u001b[1;33m\u001b[0m\u001b[0m\n",
      "\u001b[1;31mNameError\u001b[0m: name 'data' is not defined"
     ]
    }
   ],
   "source": [
    "np.savetxt(\"regression_saved.csv\", data, delimiter=\",\")\n",
    "!ls -al regression_saved.csv"
   ]
  },
  {
   "cell_type": "markdown",
   "metadata": {},
   "source": [
    "# 4. Inspecting"
   ]
  },
  {
   "cell_type": "code",
   "execution_count": 64,
   "metadata": {},
   "outputs": [],
   "source": [
    "arr = np.random.random([5,2,3])"
   ]
  },
  {
   "cell_type": "code",
   "execution_count": 65,
   "metadata": {},
   "outputs": [
    {
     "name": "stdout",
     "output_type": "stream",
     "text": [
      "<class 'numpy.ndarray'>\n",
      "5\n",
      "(5, 2, 3)\n",
      "3\n",
      "30\n",
      "float64\n"
     ]
    }
   ],
   "source": [
    "print(type(arr))\n",
    "print(len(arr)) # 젤 앞에꺼만 가져옴\n",
    "print(arr.shape) # arr의 행렬 크기 \n",
    "print(arr.ndim) # 몇개의 차원인지 알려줌\n",
    "print(arr.size) # 5x2x3 총 사이즈\n",
    "print(arr.dtype) # 데이터 타입 # float64는 소수점 64까지 내려가는 데이터"
   ]
  },
  {
   "cell_type": "markdown",
   "metadata": {},
   "source": [
    "# 5. Operations\n",
    "## 1 Arithmetic"
   ]
  },
  {
   "cell_type": "code",
   "execution_count": 67,
   "metadata": {},
   "outputs": [
    {
     "data": {
      "text/plain": [
       "(array([1, 2, 3, 4]), array([9, 8, 7, 6]))"
      ]
     },
     "execution_count": 67,
     "metadata": {},
     "output_type": "execute_result"
    }
   ],
   "source": [
    "a = np.arange(1, 5) # 1~ 4까지임\n",
    "b = np.arange(9, 5, -1)\n",
    "a,b # print(a) 안쓰고 둘다 나타나게 할 수 있는 방법"
   ]
  },
  {
   "cell_type": "code",
   "execution_count": 68,
   "metadata": {},
   "outputs": [
    {
     "name": "stdout",
     "output_type": "stream",
     "text": [
      "[-8 -6 -4 -2]\n",
      "[ 9 16 21 24]\n"
     ]
    }
   ],
   "source": [
    "print(a - b) # 현재 1x4의 1차원 같은 2차원\n",
    "print(a * b) # matrix라면 1x4 와 1x4 원래 못 곱함 -> array이기 때문에 같은 위치의 element끼리 곱하기 가능"
   ]
  },
  {
   "cell_type": "code",
   "execution_count": 71,
   "metadata": {},
   "outputs": [
    {
     "data": {
      "text/plain": [
       "(matrix([[1, 2, 3, 4]]), matrix([[9, 8, 7, 6]]))"
      ]
     },
     "execution_count": 71,
     "metadata": {},
     "output_type": "execute_result"
    }
   ],
   "source": [
    "a = np.matrix(a) # matrix만드는 법\n",
    "b = np.matrix(b)\n",
    "a,b"
   ]
  },
  {
   "cell_type": "code",
   "execution_count": 90,
   "metadata": {},
   "outputs": [
    {
     "data": {
      "text/plain": [
       "array([[  0,   2,   6,  12,  20,  30],\n",
       "       [  0,   8,  18,  30,  44,  60],\n",
       "       [  0,  14,  30,  48,  68,  90],\n",
       "       [  0,  20,  42,  66,  92, 120]])"
      ]
     },
     "execution_count": 90,
     "metadata": {},
     "output_type": "execute_result"
    }
   ],
   "source": [
    "a * b.T # Transpose\n"
   ]
  },
  {
   "cell_type": "code",
   "execution_count": 73,
   "metadata": {},
   "outputs": [
    {
     "data": {
      "text/plain": [
       "matrix([[ 9,  8,  7,  6],\n",
       "        [18, 16, 14, 12],\n",
       "        [27, 24, 21, 18],\n",
       "        [36, 32, 28, 24]])"
      ]
     },
     "execution_count": 73,
     "metadata": {},
     "output_type": "execute_result"
    }
   ],
   "source": [
    "a.T * b # transpose 는 행열에서 행과열을 뒤집는 것!"
   ]
  },
  {
   "cell_type": "markdown",
   "metadata": {},
   "source": [
    "# 5.3 Aggregate (sum, min, max, mean, median, std)"
   ]
  },
  {
   "cell_type": "code",
   "execution_count": 74,
   "metadata": {},
   "outputs": [
    {
     "data": {
      "text/plain": [
       "(10, 10)"
      ]
     },
     "execution_count": 74,
     "metadata": {},
     "output_type": "execute_result"
    }
   ],
   "source": [
    "a.sum(), np.sum(a) # 두가지 방식이 존재! "
   ]
  },
  {
   "cell_type": "code",
   "execution_count": 75,
   "metadata": {},
   "outputs": [
    {
     "data": {
      "text/plain": [
       "(matrix([[1, 2, 3, 4]]), matrix([[1, 2, 3, 4]]))"
      ]
     },
     "execution_count": 75,
     "metadata": {},
     "output_type": "execute_result"
    }
   ],
   "source": [
    "a.sum(axis=0), np.sum(a, axis=0) # low방향으로 더하기"
   ]
  },
  {
   "cell_type": "code",
   "execution_count": 76,
   "metadata": {},
   "outputs": [
    {
     "data": {
      "text/plain": [
       "(matrix([[10]]), matrix([[10]]))"
      ]
     },
     "execution_count": 76,
     "metadata": {},
     "output_type": "execute_result"
    }
   ],
   "source": [
    "a.sum(axis=1), np.sum(a, axis=1) # 세로 방향으로 더하는 거"
   ]
  },
  {
   "cell_type": "code",
   "execution_count": 77,
   "metadata": {},
   "outputs": [
    {
     "data": {
      "text/plain": [
       "array([[ 1,  2,  3,  4,  5,  6],\n",
       "       [ 7,  8,  9, 10, 11, 12],\n",
       "       [13, 14, 15, 16, 17, 18],\n",
       "       [19, 20, 21, 22, 23, 24]])"
      ]
     },
     "execution_count": 77,
     "metadata": {},
     "output_type": "execute_result"
    }
   ],
   "source": [
    "a = np.arange(1, 25).reshape(4, 6)\n",
    "a"
   ]
  },
  {
   "cell_type": "code",
   "execution_count": 78,
   "metadata": {},
   "outputs": [
    {
     "data": {
      "text/plain": [
       "array([[101, 102, 103, 104, 105, 106],\n",
       "       [107, 108, 109, 110, 111, 112],\n",
       "       [113, 114, 115, 116, 117, 118],\n",
       "       [119, 120, 121, 122, 123, 124]])"
      ]
     },
     "execution_count": 78,
     "metadata": {},
     "output_type": "execute_result"
    }
   ],
   "source": [
    "a + 100"
   ]
  },
  {
   "cell_type": "code",
   "execution_count": 79,
   "metadata": {},
   "outputs": [
    {
     "data": {
      "text/plain": [
       "array([0, 1, 2, 3, 4, 5])"
      ]
     },
     "execution_count": 79,
     "metadata": {},
     "output_type": "execute_result"
    }
   ],
   "source": [
    "b = np.arange(6)\n",
    "b"
   ]
  },
  {
   "cell_type": "code",
   "execution_count": 80,
   "metadata": {},
   "outputs": [
    {
     "data": {
      "text/plain": [
       "array([[ 1,  3,  5,  7,  9, 11],\n",
       "       [ 7,  9, 11, 13, 15, 17],\n",
       "       [13, 15, 17, 19, 21, 23],\n",
       "       [19, 21, 23, 25, 27, 29]])"
      ]
     },
     "execution_count": 80,
     "metadata": {},
     "output_type": "execute_result"
    }
   ],
   "source": [
    "a + b # 이게 왜 되지? 는 b를 각 a의 행에 더해주기 때문에 됨. matrix가 아닌 array기 때문에 가능"
   ]
  },
  {
   "cell_type": "code",
   "execution_count": 88,
   "metadata": {},
   "outputs": [
    {
     "data": {
      "text/plain": [
       "array([[0],\n",
       "       [1],\n",
       "       [2],\n",
       "       [3]])"
      ]
     },
     "execution_count": 88,
     "metadata": {},
     "output_type": "execute_result"
    }
   ],
   "source": [
    "c = np.arange(4).reshape([4,1]).reshape([2,2]).reshape([4]).reshape([1,4]).reshape([4,1]) #이건 그냥 계속 reshape할 수 있어서 해봄\n",
    "c"
   ]
  },
  {
   "cell_type": "code",
   "execution_count": 89,
   "metadata": {},
   "outputs": [
    {
     "data": {
      "text/plain": [
       "array([[ 1,  2,  3,  4,  5,  6],\n",
       "       [ 8,  9, 10, 11, 12, 13],\n",
       "       [15, 16, 17, 18, 19, 20],\n",
       "       [22, 23, 24, 25, 26, 27]])"
      ]
     },
     "execution_count": 89,
     "metadata": {},
     "output_type": "execute_result"
    }
   ],
   "source": [
    "a + c"
   ]
  },
  {
   "cell_type": "code",
   "execution_count": null,
   "metadata": {},
   "outputs": [],
   "source": []
  }
 ],
 "metadata": {
  "kernelspec": {
   "display_name": "Python 3",
   "language": "python",
   "name": "python3"
  },
  "language_info": {
   "codemirror_mode": {
    "name": "ipython",
    "version": 3
   },
   "file_extension": ".py",
   "mimetype": "text/x-python",
   "name": "python",
   "nbconvert_exporter": "python",
   "pygments_lexer": "ipython3",
   "version": "3.7.1"
  }
 },
 "nbformat": 4,
 "nbformat_minor": 2
}
