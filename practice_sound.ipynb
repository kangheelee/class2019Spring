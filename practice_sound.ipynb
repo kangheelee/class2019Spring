{
 "cells": [
  {
   "cell_type": "markdown",
   "metadata": {},
   "source": [
    "영상화질 4K처럼 sound에서도 컴퓨터가 처리하는 데이터의 양(품질과 관련됨)의 차이가 있다. 그걸 결정해주는게 SR(sampling rate)\n",
    "옛날 전화기로는 누구목소린지 헷갈리는 경우가 있었는데 요즘 점점 그게 덜해짐. 소리의 해상도 차이 덕분!"
   ]
  },
  {
   "cell_type": "code",
   "execution_count": 1,
   "metadata": {},
   "outputs": [],
   "source": [
    "from matplotlib import pyplot as plt\n",
    "from mpl_toolkits.mplot3d import Axes3D\n",
    "from mpl_toolkits.axes_grid1 import make_axes_locatable\n",
    "import IPython.display as ipd\n",
    "import numpy as np\n",
    "%matplotlib notebook\n",
    "from scipy.signal import lfilter"
   ]
  },
  {
   "cell_type": "code",
   "execution_count": 2,
   "metadata": {},
   "outputs": [],
   "source": [
    "# parameter setting\n",
    "amp = 1          # range [0.0, 1.0]\n",
    "sr = 10000       # sampling rate, Hz / 1초를 만개로 쪼갬(음질, 점박이갯수)\n",
    "dur = 0.5        # in seconds, 0.5초\n",
    "freq = 100.0     # sine frequency, Hz, 즉 1초에 백번의 sign wave(태극문양)이 반복된다."
   ]
  },
  {
   "cell_type": "markdown",
   "metadata": {},
   "source": [
    "소리는 sign wave의 형태인데, sign wave는 어떤 형태일까! \n",
    "소리는 아무리 복잡해도 사인웨이브의 합. \n",
    "소리는 두가지에 의해 결정되는데 음의 높낮이(freq, 빠르기) 음의 강도(amplitude, 진폭)과 관련되어있다. 두개는 독립적임!"
   ]
  },
  {
   "cell_type": "code",
   "execution_count": 3,
   "metadata": {
    "scrolled": true
   },
   "outputs": [],
   "source": [
    "# generate time ** 제일 먼저해야함! Why? x축이거든!\n",
    "t = np.arange(1, sr * dur+1)/sr # 시간을 만분의 1초에서 만분의 5천초로 나눈 것!! 즉 0.5초까지의 시간을 변수로 설정한ㄸ 것\n",
    "# 몇개로 쪼개느냐에 따라서 (sr)에 따라서 소리 해상도가 달라짐!\n",
    "# arrage는 sign 함수 인가봄, 이 arrange()안에 들어가는 input은 숫자인데 *각도값(중요)*을 넣어야 의미있게 작동한다.\n",
    "#arrange(1,sr+1)/sr 은 만분의 1초부터 1초까지 만개로 쪼갠 값을 생성\n",
    "#arrange(1, sr*0.5 + 1)는 1부터 5000까지 만드는 기능. 만약 +1이 없으면 4999개 만드는 것. 여기다 /sr 붙이면 만분에 일부터 만분의 오천까지\n",
    "#시험문제 EX) leg(t)=? 에서 ?에 들어갈 값은?"
   ]
  },
  {
   "cell_type": "code",
   "execution_count": 4,
   "metadata": {},
   "outputs": [],
   "source": [
    "# 그런데 그런 각도값을 '45도' 형태로는 못넣음! 즉, pi/4로 표현! pi가 180도 이니까 \n",
    "# generate phase  \n",
    "theta = t * 2*np.pi * freq #한 프리퀀시는 2파이, "
   ]
  },
  {
   "cell_type": "code",
   "execution_count": 5,
   "metadata": {},
   "outputs": [],
   "source": [
    "# generate signal by cosine-phasor\n",
    "s = np.sin(theta*1)\n",
    "#문제 예시 ) theta와 s의 length가 가타!!!"
   ]
  },
  {
   "cell_type": "code",
   "execution_count": 7,
   "metadata": {
    "scrolled": true
   },
   "outputs": [
    {
     "data": {
      "text/plain": [
       "Text(0, 0.5, 'real')"
      ]
     },
     "execution_count": 7,
     "metadata": {},
     "output_type": "execute_result"
    },
    {
     "data": {
      "image/png": "[encoded data removed]",
      "text/plain": [
       "<Figure size 432x288 with 1 Axes>"
      ]
     },
     "metadata": {
      "needs_background": "light"
     },
     "output_type": "display_data"
    }
   ],
   "source": [
    "fig = plt.figure()\n",
    "ax = fig.add_subplot(111)\n",
    "ax.plot(t[0:1000], s[0:1000], '.') #정말 간단하게는 ax.plot(t,s)로 나타낼 수 있다. #점의 개수는 len(x), 이경우 천개의 점을 ㅣㅈㄱ는다.\n",
    "ax.set_xlabel('time (s)') #x축 제목\n",
    "ax.set_ylabel('real')# y축 제목"
   ]
  },
  {
   "cell_type": "markdown",
   "metadata": {},
   "source": [
    "복소평면! a+bi 꼴 지지난학기 설명 참조! 각도만들어주는 개념! a는 x축, b는 y축으로 반지름 1인 원 삥삥 도는거\n",
    "어떤쪽(실수값)에서 보는게 cos이고 반대쪽(허수값)에서 보면 sin임!! 축의 차이"
   ]
  },
  {
   "cell_type": "code",
   "execution_count": null,
   "metadata": {},
   "outputs": [],
   "source": []
  }
 ],
 "metadata": {
  "kernelspec": {
   "display_name": "Python 3",
   "language": "python",
   "name": "python3"
  },
  "language_info": {
   "codemirror_mode": {
    "name": "ipython",
    "version": 3
   },
   "file_extension": ".py",
   "mimetype": "text/x-python",
   "name": "python",
   "nbconvert_exporter": "python",
   "pygments_lexer": "ipython3",
   "version": "3.7.1"
  }
 },
 "nbformat": 4,
 "nbformat_minor": 2
}
