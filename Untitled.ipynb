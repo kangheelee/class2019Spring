{
 "cells": [
  {
   "cell_type": "markdown",
   "metadata": {},
   "source": [
    "## 변수정의"
   ]
  },
  {
   "cell_type": "code",
   "execution_count": null,
   "metadata": {},
   "outputs": [],
   "source": [
    "b = '123'\n",
    "type(b)"
   ]
  },
  {
   "cell_type": "code",
   "execution_count": null,
   "metadata": {},
   "outputs": [],
   "source": [
    "b = '123'\n",
    "type(b)"
   ]
  },
  {
   "cell_type": "code",
   "execution_count": null,
   "metadata": {},
   "outputs": [],
   "source": [
    "c = [1, 2, 'ac', [4,5]]\n",
    "c[-1][0]"
   ]
  },
  {
   "cell_type": "markdown",
   "metadata": {},
   "source": [
    "## variable dictionary have to us(), unlike list"
   ]
  },
  {
   "cell_type": "code",
   "execution_count": 13,
   "metadata": {},
   "outputs": [
    {
     "name": "stdout",
     "output_type": "stream",
     "text": [
      "1\n",
      "2\n",
      "3\n",
      "4\n"
     ]
    }
   ],
   "source": [
    "a = [1, 2, 3, 4]\n",
    "for i in a:\n",
    "    print(i)"
   ]
  },
  {
   "cell_type": "code",
   "execution_count": 15,
   "metadata": {
    "scrolled": true
   },
   "outputs": [
    {
     "data": {
      "text/plain": [
       "4"
      ]
     },
     "execution_count": 15,
     "metadata": {},
     "output_type": "execute_result"
    }
   ],
   "source": [
    "len(a)"
   ]
  },
  {
   "cell_type": "code",
   "execution_count": 10,
   "metadata": {},
   "outputs": [
    {
     "name": "stdout",
     "output_type": "stream",
     "text": [
      "1\n",
      "2\n",
      "3\n",
      "4\n"
     ]
    }
   ],
   "source": [
    "a = [1, 2, 3, 4]\n",
    "for i in range(len(a)): ## len은 a변수의 개수!를 불러옴. 즉 len(a)는 4 // range\n",
    "    print(a[i]) ## a의 0번째부터 4까지 찍는다."
   ]
  },
  {
   "cell_type": "code",
   "execution_count": 11,
   "metadata": {},
   "outputs": [
    {
     "name": "stdout",
     "output_type": "stream",
     "text": [
      "red\n",
      "green\n",
      "blue\n",
      "purple\n"
     ]
    }
   ],
   "source": [
    "a = ['red', 'green', 'blue', 'purple']\n",
    "for i in a:\n",
    "    print(i)"
   ]
  },
  {
   "cell_type": "code",
   "execution_count": 16,
   "metadata": {},
   "outputs": [
    {
     "name": "stdout",
     "output_type": "stream",
     "text": [
      "red: 20.0%\n",
      "green: 30.0%\n",
      "blue: 10.0%\n",
      "purple: 40.0%\n"
     ]
    }
   ],
   "source": [
    "a = [\"red\", \"green\", \"blue\", \"purple\"]\n",
    "b = [0.2, 0.3, 0.1, 0.4]\n",
    "for i, a in enumerate(a):  ## enumerate? range처럼 i에 01234 인덱스를 만들어주는데, 동시에 a 내용은 유지한다는 것\n",
    "    print(\"{}: {}%\".format(a, b[i]*100)) ## ror루프가 4번을 돌면서 (사이)에 있는 내용을 {}:{} 형식에 넣어줌!"
   ]
  },
  {
   "cell_type": "code",
   "execution_count": 18,
   "metadata": {
    "scrolled": true
   },
   "outputs": [
    {
     "name": "stdout",
     "output_type": "stream",
     "text": [
      "red: 20.0%\n",
      "green: 30.0%\n",
      "blue: 10.0%\n",
      "purple: 40.0%\n"
     ]
    }
   ],
   "source": [
    "a = [\"red\", \"green\", \"blue\", \"purple\"]\n",
    "b = [0.2, 0.3, 0.1, 0.4]\n",
    "for a_, b_ in zip(a, b): ## (a,b)를 가둬서 a_, b_에 넣음. a_나 b_는 그냥 새로운 변수임. c,d라고 생각하면 됨\n",
    "    print(\"{}: {}%\".format(a_, b_*100))"
   ]
  },
  {
   "cell_type": "code",
   "execution_count": 20,
   "metadata": {},
   "outputs": [
    {
     "name": "stdout",
     "output_type": "stream",
     "text": [
      "3\n",
      "4\n",
      "6\n",
      "8\n"
     ]
    }
   ],
   "source": [
    "##이중 for루프\n",
    "for i in range(1, 3):\n",
    "    for j in range(3, 5): ##위에 루프 될때마다 j가 루프됨. range(3, 5)는 1부터 2까지임? 왜?\n",
    "        print(i*j)"
   ]
  },
  {
   "cell_type": "markdown",
   "metadata": {},
   "source": [
    "## if문"
   ]
  },
  {
   "cell_type": "code",
   "execution_count": 19,
   "metadata": {},
   "outputs": [
    {
     "name": "stdout",
     "output_type": "stream",
     "text": [
      "0\n"
     ]
    }
   ],
   "source": [
    "a = 0\n",
    "if a == 0: ##for루프와 if 에는 꼭 :를 찍어줘야함 / end는 if, else, for 다 없음\n",
    "    print(a)\n",
    "else:\n",
    "     print(a+1)"
   ]
  },
  {
   "cell_type": "code",
   "execution_count": 23,
   "metadata": {},
   "outputs": [
    {
     "name": "stdout",
     "output_type": "stream",
     "text": [
      "4\n",
      "8\n"
     ]
    }
   ],
   "source": [
    "for i in range(1, 3):\n",
    "    for j in range(3, 5):\n",
    "        if j >=4:\n",
    "            print(i*j)"
   ]
  },
  {
   "cell_type": "code",
   "execution_count": 24,
   "metadata": {},
   "outputs": [
    {
     "data": {
      "text/plain": [
       "[2, 3, 4]"
      ]
     },
     "execution_count": 24,
     "metadata": {},
     "output_type": "execute_result"
    }
   ],
   "source": [
    "# 파이썬의 꽃\n",
    "a = [1, 2, 3, 4]\n",
    "b = [i for i in a if i >=2] ## for먼저 읽고 안에서 i가 2보다 같거나 클때만 i를 선택한다 즉 b는\n",
    "b"
   ]
  },
  {
   "cell_type": "code",
   "execution_count": 25,
   "metadata": {},
   "outputs": [
    {
     "data": {
      "text/plain": [
       "['green', 'blue', 'purple']"
      ]
     },
     "execution_count": 25,
     "metadata": {},
     "output_type": "execute_result"
    }
   ],
   "source": [
    "a = ['red', 'green', 'blue', 'purple']\n",
    "b = [i for i in a if len(i) >=4] ## for먼저 읽고 안에서 i가 \n",
    "b"
   ]
  },
  {
   "cell_type": "code",
   "execution_count": null,
   "metadata": {},
   "outputs": [],
   "source": []
  },
  {
   "cell_type": "code",
   "execution_count": null,
   "metadata": {},
   "outputs": [],
   "source": []
  }
 ],
 "metadata": {
  "kernelspec": {
   "display_name": "Python 3",
   "language": "python",
   "name": "python3"
  },
  "language_info": {
   "codemirror_mode": {
    "name": "ipython",
    "version": 3
   },
   "file_extension": ".py",
   "mimetype": "text/x-python",
   "name": "python",
   "nbconvert_exporter": "python",
   "pygments_lexer": "ipython3",
   "version": "3.7.1"
  }
 },
 "nbformat": 4,
 "nbformat_minor": 2
}
